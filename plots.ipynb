{
 "cells": [
  {
   "cell_type": "code",
   "execution_count": 1,
   "metadata": {},
   "outputs": [],
   "source": [
    "import matplotlib.pyplot as plt\n",
    "import matplotlib\n",
    "import pandas as pd\n",
    "import seaborn as sns\n",
    "import numpy as np\n",
    "\n",
    "matplotlib.rcParams.update({'font.size': 14})"
   ]
  },
  {
   "cell_type": "code",
   "execution_count": 3,
   "metadata": {},
   "outputs": [
    {
     "data": {
      "text/html": [
       "<div>\n",
       "<style scoped>\n",
       "    .dataframe tbody tr th:only-of-type {\n",
       "        vertical-align: middle;\n",
       "    }\n",
       "\n",
       "    .dataframe tbody tr th {\n",
       "        vertical-align: top;\n",
       "    }\n",
       "\n",
       "    .dataframe thead th {\n",
       "        text-align: right;\n",
       "    }\n",
       "</style>\n",
       "<table border=\"1\" class=\"dataframe\">\n",
       "  <thead>\n",
       "    <tr style=\"text-align: right;\">\n",
       "      <th></th>\n",
       "      <th>Total Time</th>\n",
       "      <th>Init Time</th>\n",
       "      <th>Write to crypto stream</th>\n",
       "      <th>Unnamed: 3</th>\n",
       "    </tr>\n",
       "  </thead>\n",
       "  <tbody>\n",
       "    <tr>\n",
       "      <th>0</th>\n",
       "      <td>6892071</td>\n",
       "      <td>6828703</td>\n",
       "      <td>26547</td>\n",
       "      <td>NaN</td>\n",
       "    </tr>\n",
       "    <tr>\n",
       "      <th>1</th>\n",
       "      <td>4731627</td>\n",
       "      <td>4609157</td>\n",
       "      <td>55545</td>\n",
       "      <td>NaN</td>\n",
       "    </tr>\n",
       "    <tr>\n",
       "      <th>2</th>\n",
       "      <td>2513281</td>\n",
       "      <td>2443544</td>\n",
       "      <td>31742</td>\n",
       "      <td>NaN</td>\n",
       "    </tr>\n",
       "    <tr>\n",
       "      <th>3</th>\n",
       "      <td>4956455</td>\n",
       "      <td>4816248</td>\n",
       "      <td>61829</td>\n",
       "      <td>NaN</td>\n",
       "    </tr>\n",
       "    <tr>\n",
       "      <th>4</th>\n",
       "      <td>2484594</td>\n",
       "      <td>2419406</td>\n",
       "      <td>29245</td>\n",
       "      <td>NaN</td>\n",
       "    </tr>\n",
       "  </tbody>\n",
       "</table>\n",
       "</div>"
      ],
      "text/plain": [
       "   Total Time  Init Time  Write to crypto stream  Unnamed: 3\n",
       "0     6892071    6828703                   26547         NaN\n",
       "1     4731627    4609157                   55545         NaN\n",
       "2     2513281    2443544                   31742         NaN\n",
       "3     4956455    4816248                   61829         NaN\n",
       "4     2484594    2419406                   29245         NaN"
      ]
     },
     "execution_count": 3,
     "metadata": {},
     "output_type": "execute_result"
    }
   ],
   "source": [
    "df = pd.read_csv(\"time_client_hello.csv\")\n",
    "df.head()"
   ]
  },
  {
   "cell_type": "code",
   "execution_count": 4,
   "metadata": {},
   "outputs": [],
   "source": [
    "from matplotlib.ticker import FormatStrFormatter, LogFormatterMathtext\n",
    "import matplotlib.ticker as mticker\n",
    "\n",
    "class MathTextSciFormatter(mticker.Formatter):\n",
    "    def __init__(self, fmt=\"%1.2e\"):\n",
    "        self.fmt = fmt\n",
    "    def __call__(self, x, pos=None):\n",
    "        s = self.fmt % x\n",
    "        decimal_point = '.'\n",
    "        positive_sign = '+'\n",
    "        tup = s.split('e')\n",
    "        significand = tup[0].rstrip(decimal_point)\n",
    "        sign = tup[1][0].replace(positive_sign, '')\n",
    "        exponent = tup[1][1:].lstrip('0')\n",
    "        if exponent:\n",
    "            exponent = '10^{%s%s}' % (sign, exponent)\n",
    "        if significand and exponent:\n",
    "            s =  r'%s{\\times}%s' % (significand, exponent)\n",
    "        else:\n",
    "            s =  r'%s%s' % (significand, exponent)\n",
    "        return \"${}$\".format(s)\n"
   ]
  },
  {
   "cell_type": "code",
   "execution_count": 34,
   "metadata": {},
   "outputs": [
    {
     "data": {
      "image/png": "[encoded data removed]",
      "text/plain": [
       "<Figure size 400x400 with 1 Axes>"
      ]
     },
     "metadata": {},
     "output_type": "display_data"
    }
   ],
   "source": [
    "data = [df[\"Total Time\"], df[\"Init Time\"], df[\"Write to crypto stream\"]]\n",
    " \n",
    "fig = plt.figure(figsize =(4, 4))\n",
    " \n",
    "# Creating axes instance\n",
    "colors = ['pink', 'lightblue', 'lightgreen']\n",
    "\n",
    "ax = fig.add_axes([0, 0, 1, 1])\n",
    "\n",
    "xticks = []\n",
    "ax.set_xticklabels(xticks)\n",
    "\n",
    "ax.set_ylabel(\"Time (in clock cycles)\")\n",
    "ax.set_ylim([1e0, 1e7])\n",
    "# ax.set_yticks([100000])#\n",
    "ax.grid(axis=\"y\")\n",
    "# ax.grid(axis=\"y\", which=\"minor\")\n",
    "ax.tick_params(axis='y', which='minor', labelsize=11)\n",
    "# ax.tick_params(axis='y', which='major', labelsize=11)\n",
    "\n",
    "ax.set_yscale(\"log\")\n",
    "# ax.yaxis.set_minor_formatter(MathTextSciFormatter(\"%1.0e\"))\n",
    "# ax.yaxis.set_major_formatter(MathTextSciFormatter(\"%1.0e\"))\n",
    "\n",
    "# ax.minorticks_on()\n",
    "bp = ax.boxplot(data, patch_artist=True, notch=False,showfliers=False, flierprops={'marker': 'o', 'markersize': 1, 'markerfacecolor': 'fuchsia'})\n",
    "for patch, color in zip(bp['boxes'], colors):\n",
    "        patch.set_facecolor(color)\n",
    "# labels = [\"TCP-TLS Packets\", \"QUIC Packets\"]\n",
    "# ax.legend([bp[\"boxes\"][0], bp[\"boxes\"][1]], labels, loc=\"lower right\")\n",
    "ax.set_xticks([1, 2, 3], [\"Total\", \"Client Hello\\ngeneration\", \"Write to \\n crypto stream\"])\n",
    "\n",
    "plt.savefig('crypto_plot.pdf',bbox_inches='tight', dpi=150)\n",
    "plt.show()"
   ]
  },
  {
   "cell_type": "code",
   "execution_count": null,
   "metadata": {},
   "outputs": [],
   "source": []
  }
 ],
 "metadata": {
  "kernelspec": {
   "display_name": "venv",
   "language": "python",
   "name": "python3"
  },
  "language_info": {
   "codemirror_mode": {
    "name": "ipython",
    "version": 3
   },
   "file_extension": ".py",
   "mimetype": "text/x-python",
   "name": "python",
   "nbconvert_exporter": "python",
   "pygments_lexer": "ipython3",
   "version": "3.10.12"
  }
 },
 "nbformat": 4,
 "nbformat_minor": 2
}
